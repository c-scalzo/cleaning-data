{
 "cells": [
  {
   "cell_type": "markdown",
   "id": "1c5ab710",
   "metadata": {},
   "source": [
    "# Cleaning Data Exercises\n",
    "\n",
    "For the exercises, you will be cleaning data in your chosen data set. [Towards Data Science](https://towardsdatascience.com/data-cleaning-in-python-the-ultimate-guide-2020-c63b88bf0a0d) outlines the steps we should take to clean data using a different data set from Kaggle. While you should use this article as a reference, make sure not to copy paste as the two data sets are very different!\n",
    "\n",
    "To start cleaning data, we first need to create a dataframe from the CSV and print out any relevant info to make sure our dataframe is ready to go."
   ]
  },
  {
   "cell_type": "code",
   "execution_count": 1,
   "id": "da3513e0",
   "metadata": {},
   "outputs": [],
   "source": [
    "# Import pandas and any other libraries you need here. HINT: Check out the article to see what they imported to getstarted!\n",
    "import pandas as pd\n",
    "import numpy as np\n",
    "import seaborn as sns\n",
    "\n",
    "import matplotlib.pyplot as plt\n",
    "import matplotlib.mlab as mlab\n",
    "import matplotlib\n",
    "plt.style.use('ggplot')\n",
    "from matplotlib.pyplot import figure\n",
    "\n",
    "%matplotlib inline\n",
    "matplotlib.rcParams['figure.figsize'] = (12,8)\n",
    "\n",
    "pd.options.mode.chained_assignment = None\n",
    "\n",
    "\n",
    "\n",
    "\n",
    "# Create a new dataframe from your CSV\n",
    "rats = pd.read_csv('Rat_Sightings.csv')"
   ]
  },
  {
   "cell_type": "code",
   "execution_count": 2,
   "id": "045387eb",
   "metadata": {},
   "outputs": [
    {
     "data": {
      "text/html": [
       "<div>\n",
       "<style scoped>\n",
       "    .dataframe tbody tr th:only-of-type {\n",
       "        vertical-align: middle;\n",
       "    }\n",
       "\n",
       "    .dataframe tbody tr th {\n",
       "        vertical-align: top;\n",
       "    }\n",
       "\n",
       "    .dataframe thead th {\n",
       "        text-align: right;\n",
       "    }\n",
       "</style>\n",
       "<table border=\"1\" class=\"dataframe\">\n",
       "  <thead>\n",
       "    <tr style=\"text-align: right;\">\n",
       "      <th></th>\n",
       "      <th>Unique Key</th>\n",
       "      <th>Incident Zip</th>\n",
       "      <th>Facility Type</th>\n",
       "      <th>X Coordinate (State Plane)</th>\n",
       "      <th>Y Coordinate (State Plane)</th>\n",
       "      <th>School or Citywide Complaint</th>\n",
       "      <th>Vehicle Type</th>\n",
       "      <th>Taxi Company Borough</th>\n",
       "      <th>Taxi Pick Up Location</th>\n",
       "      <th>Bridge Highway Name</th>\n",
       "      <th>Bridge Highway Direction</th>\n",
       "      <th>Road Ramp</th>\n",
       "      <th>Bridge Highway Segment</th>\n",
       "      <th>Garage Lot Name</th>\n",
       "      <th>Ferry Direction</th>\n",
       "      <th>Ferry Terminal Name</th>\n",
       "      <th>Latitude</th>\n",
       "      <th>Longitude</th>\n",
       "    </tr>\n",
       "  </thead>\n",
       "  <tbody>\n",
       "    <tr>\n",
       "      <th>count</th>\n",
       "      <td>1.019140e+05</td>\n",
       "      <td>101578.000000</td>\n",
       "      <td>0.0</td>\n",
       "      <td>1.012080e+05</td>\n",
       "      <td>101208.000000</td>\n",
       "      <td>0.0</td>\n",
       "      <td>0.0</td>\n",
       "      <td>0.0</td>\n",
       "      <td>0.0</td>\n",
       "      <td>0.0</td>\n",
       "      <td>0.0</td>\n",
       "      <td>0.0</td>\n",
       "      <td>0.0</td>\n",
       "      <td>0.0</td>\n",
       "      <td>0.0</td>\n",
       "      <td>0.0</td>\n",
       "      <td>101208.000000</td>\n",
       "      <td>101208.000000</td>\n",
       "    </tr>\n",
       "    <tr>\n",
       "      <th>mean</th>\n",
       "      <td>2.815864e+07</td>\n",
       "      <td>10728.680895</td>\n",
       "      <td>NaN</td>\n",
       "      <td>1.002473e+06</td>\n",
       "      <td>208639.988953</td>\n",
       "      <td>NaN</td>\n",
       "      <td>NaN</td>\n",
       "      <td>NaN</td>\n",
       "      <td>NaN</td>\n",
       "      <td>NaN</td>\n",
       "      <td>NaN</td>\n",
       "      <td>NaN</td>\n",
       "      <td>NaN</td>\n",
       "      <td>NaN</td>\n",
       "      <td>NaN</td>\n",
       "      <td>NaN</td>\n",
       "      <td>40.739304</td>\n",
       "      <td>-73.934206</td>\n",
       "    </tr>\n",
       "    <tr>\n",
       "      <th>std</th>\n",
       "      <td>6.015376e+06</td>\n",
       "      <td>631.206648</td>\n",
       "      <td>NaN</td>\n",
       "      <td>1.958043e+04</td>\n",
       "      <td>29956.193531</td>\n",
       "      <td>NaN</td>\n",
       "      <td>NaN</td>\n",
       "      <td>NaN</td>\n",
       "      <td>NaN</td>\n",
       "      <td>NaN</td>\n",
       "      <td>NaN</td>\n",
       "      <td>NaN</td>\n",
       "      <td>NaN</td>\n",
       "      <td>NaN</td>\n",
       "      <td>NaN</td>\n",
       "      <td>NaN</td>\n",
       "      <td>0.082224</td>\n",
       "      <td>0.070617</td>\n",
       "    </tr>\n",
       "    <tr>\n",
       "      <th>min</th>\n",
       "      <td>1.146439e+07</td>\n",
       "      <td>83.000000</td>\n",
       "      <td>NaN</td>\n",
       "      <td>9.134950e+05</td>\n",
       "      <td>121350.000000</td>\n",
       "      <td>NaN</td>\n",
       "      <td>NaN</td>\n",
       "      <td>NaN</td>\n",
       "      <td>NaN</td>\n",
       "      <td>NaN</td>\n",
       "      <td>NaN</td>\n",
       "      <td>NaN</td>\n",
       "      <td>NaN</td>\n",
       "      <td>NaN</td>\n",
       "      <td>NaN</td>\n",
       "      <td>NaN</td>\n",
       "      <td>40.499502</td>\n",
       "      <td>-74.254437</td>\n",
       "    </tr>\n",
       "    <tr>\n",
       "      <th>25%</th>\n",
       "      <td>2.341452e+07</td>\n",
       "      <td>10086.250000</td>\n",
       "      <td>NaN</td>\n",
       "      <td>9.936100e+05</td>\n",
       "      <td>186934.000000</td>\n",
       "      <td>NaN</td>\n",
       "      <td>NaN</td>\n",
       "      <td>NaN</td>\n",
       "      <td>NaN</td>\n",
       "      <td>NaN</td>\n",
       "      <td>NaN</td>\n",
       "      <td>NaN</td>\n",
       "      <td>NaN</td>\n",
       "      <td>NaN</td>\n",
       "      <td>NaN</td>\n",
       "      <td>NaN</td>\n",
       "      <td>40.679740</td>\n",
       "      <td>-73.966216</td>\n",
       "    </tr>\n",
       "    <tr>\n",
       "      <th>50%</th>\n",
       "      <td>2.883680e+07</td>\n",
       "      <td>10472.000000</td>\n",
       "      <td>NaN</td>\n",
       "      <td>1.001398e+06</td>\n",
       "      <td>203425.500000</td>\n",
       "      <td>NaN</td>\n",
       "      <td>NaN</td>\n",
       "      <td>NaN</td>\n",
       "      <td>NaN</td>\n",
       "      <td>NaN</td>\n",
       "      <td>NaN</td>\n",
       "      <td>NaN</td>\n",
       "      <td>NaN</td>\n",
       "      <td>NaN</td>\n",
       "      <td>NaN</td>\n",
       "      <td>NaN</td>\n",
       "      <td>40.725009</td>\n",
       "      <td>-73.938112</td>\n",
       "    </tr>\n",
       "    <tr>\n",
       "      <th>75%</th>\n",
       "      <td>3.346014e+07</td>\n",
       "      <td>11222.000000</td>\n",
       "      <td>NaN</td>\n",
       "      <td>1.011951e+06</td>\n",
       "      <td>236364.000000</td>\n",
       "      <td>NaN</td>\n",
       "      <td>NaN</td>\n",
       "      <td>NaN</td>\n",
       "      <td>NaN</td>\n",
       "      <td>NaN</td>\n",
       "      <td>NaN</td>\n",
       "      <td>NaN</td>\n",
       "      <td>NaN</td>\n",
       "      <td>NaN</td>\n",
       "      <td>NaN</td>\n",
       "      <td>NaN</td>\n",
       "      <td>40.815428</td>\n",
       "      <td>-73.899963</td>\n",
       "    </tr>\n",
       "    <tr>\n",
       "      <th>max</th>\n",
       "      <td>3.719700e+07</td>\n",
       "      <td>100354.000000</td>\n",
       "      <td>NaN</td>\n",
       "      <td>1.066922e+06</td>\n",
       "      <td>271876.000000</td>\n",
       "      <td>NaN</td>\n",
       "      <td>NaN</td>\n",
       "      <td>NaN</td>\n",
       "      <td>NaN</td>\n",
       "      <td>NaN</td>\n",
       "      <td>NaN</td>\n",
       "      <td>NaN</td>\n",
       "      <td>NaN</td>\n",
       "      <td>NaN</td>\n",
       "      <td>NaN</td>\n",
       "      <td>NaN</td>\n",
       "      <td>40.912869</td>\n",
       "      <td>-73.701632</td>\n",
       "    </tr>\n",
       "  </tbody>\n",
       "</table>\n",
       "</div>"
      ],
      "text/plain": [
       "         Unique Key   Incident Zip  Facility Type  X Coordinate (State Plane)  \\\n",
       "count  1.019140e+05  101578.000000            0.0                1.012080e+05   \n",
       "mean   2.815864e+07   10728.680895            NaN                1.002473e+06   \n",
       "std    6.015376e+06     631.206648            NaN                1.958043e+04   \n",
       "min    1.146439e+07      83.000000            NaN                9.134950e+05   \n",
       "25%    2.341452e+07   10086.250000            NaN                9.936100e+05   \n",
       "50%    2.883680e+07   10472.000000            NaN                1.001398e+06   \n",
       "75%    3.346014e+07   11222.000000            NaN                1.011951e+06   \n",
       "max    3.719700e+07  100354.000000            NaN                1.066922e+06   \n",
       "\n",
       "       Y Coordinate (State Plane)  School or Citywide Complaint  Vehicle Type  \\\n",
       "count               101208.000000                           0.0           0.0   \n",
       "mean                208639.988953                           NaN           NaN   \n",
       "std                  29956.193531                           NaN           NaN   \n",
       "min                 121350.000000                           NaN           NaN   \n",
       "25%                 186934.000000                           NaN           NaN   \n",
       "50%                 203425.500000                           NaN           NaN   \n",
       "75%                 236364.000000                           NaN           NaN   \n",
       "max                 271876.000000                           NaN           NaN   \n",
       "\n",
       "       Taxi Company Borough  Taxi Pick Up Location  Bridge Highway Name  \\\n",
       "count                   0.0                    0.0                  0.0   \n",
       "mean                    NaN                    NaN                  NaN   \n",
       "std                     NaN                    NaN                  NaN   \n",
       "min                     NaN                    NaN                  NaN   \n",
       "25%                     NaN                    NaN                  NaN   \n",
       "50%                     NaN                    NaN                  NaN   \n",
       "75%                     NaN                    NaN                  NaN   \n",
       "max                     NaN                    NaN                  NaN   \n",
       "\n",
       "       Bridge Highway Direction  Road Ramp  Bridge Highway Segment  \\\n",
       "count                       0.0        0.0                     0.0   \n",
       "mean                        NaN        NaN                     NaN   \n",
       "std                         NaN        NaN                     NaN   \n",
       "min                         NaN        NaN                     NaN   \n",
       "25%                         NaN        NaN                     NaN   \n",
       "50%                         NaN        NaN                     NaN   \n",
       "75%                         NaN        NaN                     NaN   \n",
       "max                         NaN        NaN                     NaN   \n",
       "\n",
       "       Garage Lot Name  Ferry Direction  Ferry Terminal Name       Latitude  \\\n",
       "count              0.0              0.0                  0.0  101208.000000   \n",
       "mean               NaN              NaN                  NaN      40.739304   \n",
       "std                NaN              NaN                  NaN       0.082224   \n",
       "min                NaN              NaN                  NaN      40.499502   \n",
       "25%                NaN              NaN                  NaN      40.679740   \n",
       "50%                NaN              NaN                  NaN      40.725009   \n",
       "75%                NaN              NaN                  NaN      40.815428   \n",
       "max                NaN              NaN                  NaN      40.912869   \n",
       "\n",
       "           Longitude  \n",
       "count  101208.000000  \n",
       "mean      -73.934206  \n",
       "std         0.070617  \n",
       "min       -74.254437  \n",
       "25%       -73.966216  \n",
       "50%       -73.938112  \n",
       "75%       -73.899963  \n",
       "max       -73.701632  "
      ]
     },
     "execution_count": 2,
     "metadata": {},
     "output_type": "execute_result"
    }
   ],
   "source": [
    "# Print out any information you need to understand your dataframe\n",
    "rats.describe()"
   ]
  },
  {
   "cell_type": "code",
   "execution_count": 19,
   "id": "d8d1abf6",
   "metadata": {},
   "outputs": [
    {
     "data": {
      "text/plain": [
       "(101914, 52)"
      ]
     },
     "execution_count": 19,
     "metadata": {},
     "output_type": "execute_result"
    }
   ],
   "source": [
    "rats.shape"
   ]
  },
  {
   "cell_type": "markdown",
   "id": "81717993",
   "metadata": {},
   "source": [
    "Now you have a dataframe set up, you are ready to dive in and start cleaning!"
   ]
  },
  {
   "cell_type": "code",
   "execution_count": 20,
   "id": "2c925590",
   "metadata": {},
   "outputs": [
    {
     "data": {
      "text/plain": [
       "Unique Key                          int64\n",
       "Created Date                       object\n",
       "Closed Date                        object\n",
       "Agency                             object\n",
       "Agency Name                        object\n",
       "Complaint Type                     object\n",
       "Descriptor                         object\n",
       "Location Type                      object\n",
       "Incident Zip                      float64\n",
       "Incident Address                   object\n",
       "Street Name                        object\n",
       "Cross Street 1                     object\n",
       "Cross Street 2                     object\n",
       "Intersection Street 1              object\n",
       "Intersection Street 2              object\n",
       "Address Type                       object\n",
       "City                               object\n",
       "Landmark                           object\n",
       "Facility Type                     float64\n",
       "Status                             object\n",
       "Due Date                           object\n",
       "Resolution Action Updated Date     object\n",
       "Community Board                    object\n",
       "Borough                            object\n",
       "X Coordinate (State Plane)        float64\n",
       "Y Coordinate (State Plane)        float64\n",
       "Park Facility Name                 object\n",
       "Park Borough                       object\n",
       "School Name                        object\n",
       "School Number                      object\n",
       "School Region                      object\n",
       "School Code                        object\n",
       "School Phone Number                object\n",
       "School Address                     object\n",
       "School City                        object\n",
       "School State                       object\n",
       "School Zip                         object\n",
       "School Not Found                   object\n",
       "School or Citywide Complaint      float64\n",
       "Vehicle Type                      float64\n",
       "Taxi Company Borough              float64\n",
       "Taxi Pick Up Location             float64\n",
       "Bridge Highway Name               float64\n",
       "Bridge Highway Direction          float64\n",
       "Road Ramp                         float64\n",
       "Bridge Highway Segment            float64\n",
       "Garage Lot Name                   float64\n",
       "Ferry Direction                   float64\n",
       "Ferry Terminal Name               float64\n",
       "Latitude                          float64\n",
       "Longitude                         float64\n",
       "Location                           object\n",
       "dtype: object"
      ]
     },
     "execution_count": 20,
     "metadata": {},
     "output_type": "execute_result"
    }
   ],
   "source": [
    "rats.dtypes"
   ]
  },
  {
   "cell_type": "markdown",
   "id": "303aee35",
   "metadata": {},
   "source": [
    "## Missing Data\n",
    "\n",
    "In the Towards Data Science article, they list 3 techniques for detecting any missing data frame. Try all three before deciding on a way to solve any missing data issues."
   ]
  },
  {
   "cell_type": "code",
   "execution_count": 21,
   "id": "68fd548c",
   "metadata": {},
   "outputs": [
    {
     "data": {
      "text/plain": [
       "<AxesSubplot:>"
      ]
     },
     "execution_count": 21,
     "metadata": {},
     "output_type": "execute_result"
    },
    {
     "data": {
      "image/png": "[encoded data removed]",
      "text/plain": [
       "<Figure size 864x576 with 2 Axes>"
      ]
     },
     "metadata": {
      "needs_background": "light"
     },
     "output_type": "display_data"
    }
   ],
   "source": [
    "# Plot a heatmap of any missing data\n",
    "cols = rats.columns[:52]\n",
    "colours = ['#000099', '#ffff00']\n",
    "sns.heatmap(rats[cols].isnull(), cmap=sns.color_palette(colours))"
   ]
  },
  {
   "cell_type": "code",
   "execution_count": 22,
   "id": "0ae37b5d",
   "metadata": {},
   "outputs": [
    {
     "name": "stdout",
     "output_type": "stream",
     "text": [
      "Unique Key-0%\n",
      "Created Date-0%\n",
      "Closed Date-11%\n",
      "Agency-0%\n",
      "Agency Name-0%\n",
      "Complaint Type-0%\n",
      "Descriptor-0%\n",
      "Location Type-0%\n",
      "Incident Zip-0%\n",
      "Incident Address-9%\n",
      "Street Name-9%\n",
      "Cross Street 1-16%\n",
      "Cross Street 2-16%\n",
      "Intersection Street 1-91%\n",
      "Intersection Street 2-91%\n",
      "Address Type-0%\n",
      "City-0%\n",
      "Landmark-100%\n",
      "Facility Type-100%\n",
      "Status-0%\n",
      "Due Date-0%\n",
      "Resolution Action Updated Date-0%\n",
      "Community Board-0%\n",
      "Borough-0%\n",
      "X Coordinate (State Plane)-1%\n",
      "Y Coordinate (State Plane)-1%\n",
      "Park Facility Name-0%\n",
      "Park Borough-0%\n",
      "School Name-0%\n",
      "School Number-0%\n",
      "School Region-0%\n",
      "School Code-0%\n",
      "School Phone Number-0%\n",
      "School Address-0%\n",
      "School City-0%\n",
      "School State-0%\n",
      "School Zip-0%\n",
      "School Not Found-1%\n",
      "School or Citywide Complaint-100%\n",
      "Vehicle Type-100%\n",
      "Taxi Company Borough-100%\n",
      "Taxi Pick Up Location-100%\n",
      "Bridge Highway Name-100%\n",
      "Bridge Highway Direction-100%\n",
      "Road Ramp-100%\n",
      "Bridge Highway Segment-100%\n",
      "Garage Lot Name-100%\n",
      "Ferry Direction-100%\n",
      "Ferry Terminal Name-100%\n",
      "Latitude-1%\n",
      "Longitude-1%\n",
      "Location-1%\n"
     ]
    }
   ],
   "source": [
    "# Try out a missing data percentage list! \n",
    "for col in rats.columns:\n",
    "    pct_missing = np.mean(rats[col].isnull())\n",
    "    print('{}-{}%'.format(col, round(pct_missing*100)))"
   ]
  },
  {
   "cell_type": "code",
   "execution_count": 13,
   "id": "51c62f02",
   "metadata": {},
   "outputs": [
    {
     "name": "stdout",
     "output_type": "stream",
     "text": [
      "created missing indicator for: Closed Date\n",
      "created missing indicator for: Location Type\n",
      "created missing indicator for: Incident Zip\n",
      "created missing indicator for: Incident Address\n",
      "created missing indicator for: Street Name\n",
      "created missing indicator for: Cross Street 1\n",
      "created missing indicator for: Cross Street 2\n",
      "created missing indicator for: Intersection Street 1\n",
      "created missing indicator for: Intersection Street 2\n",
      "created missing indicator for: Address Type\n",
      "created missing indicator for: City\n",
      "created missing indicator for: Landmark\n",
      "created missing indicator for: Facility Type\n",
      "created missing indicator for: Due Date\n",
      "created missing indicator for: Resolution Action Updated Date\n",
      "created missing indicator for: X Coordinate (State Plane)\n",
      "created missing indicator for: Y Coordinate (State Plane)\n",
      "created missing indicator for: School Not Found\n",
      "created missing indicator for: School or Citywide Complaint\n",
      "created missing indicator for: Vehicle Type\n",
      "created missing indicator for: Taxi Company Borough\n",
      "created missing indicator for: Taxi Pick Up Location\n",
      "created missing indicator for: Bridge Highway Name\n",
      "created missing indicator for: Bridge Highway Direction\n",
      "created missing indicator for: Road Ramp\n",
      "created missing indicator for: Bridge Highway Segment\n",
      "created missing indicator for: Garage Lot Name\n",
      "created missing indicator for: Ferry Direction\n",
      "created missing indicator for: Ferry Terminal Name\n",
      "created missing indicator for: Latitude\n",
      "created missing indicator for: Longitude\n",
      "created missing indicator for: Location\n"
     ]
    },
    {
     "data": {
      "text/plain": [
       "<AxesSubplot:xlabel='index'>"
      ]
     },
     "execution_count": 13,
     "metadata": {},
     "output_type": "execute_result"
    },
    {
     "data": {
      "image/png": "[encoded data removed]",
      "text/plain": [
       "<Figure size 864x576 with 1 Axes>"
      ]
     },
     "metadata": {
      "needs_background": "light"
     },
     "output_type": "display_data"
    }
   ],
   "source": [
    "# Plot a missing data histogram\n",
    "for col in rats.columns:\n",
    "    missing = rats[col].isnull()\n",
    "    num_missing = np.sum(missing)\n",
    "    \n",
    "    if num_missing > 0:\n",
    "        print('created missing indicator for: {}'.format(col))\n",
    "        rats['{}_ismissing'.format(col)] = missing\n",
    "        \n",
    "ismissing_cols = [col for col in rats.columns if 'ismissing' in col]\n",
    "rats['num_missing'] = rats[ismissing_cols].sum(axis=1)\n",
    "\n",
    "rats['num_missing'].value_counts().reset_index().sort_values(by='index').plot.bar(x='index', y='num_missing')"
   ]
  },
  {
   "cell_type": "markdown",
   "id": "5e791fbe",
   "metadata": {},
   "source": [
    "Now that you have tried all 3 techniques for detecting missing data, did you find any? Reading through the article, which solution do you think will help you clean the data set and handle the missing data? Try out your solution below!"
   ]
  },
  {
   "cell_type": "code",
   "execution_count": 25,
   "id": "53c2d34c",
   "metadata": {},
   "outputs": [
    {
     "data": {
      "text/html": [
       "<div>\n",
       "<style scoped>\n",
       "    .dataframe tbody tr th:only-of-type {\n",
       "        vertical-align: middle;\n",
       "    }\n",
       "\n",
       "    .dataframe tbody tr th {\n",
       "        vertical-align: top;\n",
       "    }\n",
       "\n",
       "    .dataframe thead th {\n",
       "        text-align: right;\n",
       "    }\n",
       "</style>\n",
       "<table border=\"1\" class=\"dataframe\">\n",
       "  <thead>\n",
       "    <tr style=\"text-align: right;\">\n",
       "      <th></th>\n",
       "      <th>Unique Key</th>\n",
       "      <th>Incident Zip</th>\n",
       "      <th>X Coordinate (State Plane)</th>\n",
       "      <th>Y Coordinate (State Plane)</th>\n",
       "      <th>Latitude</th>\n",
       "      <th>Longitude</th>\n",
       "      <th>num_missing</th>\n",
       "    </tr>\n",
       "  </thead>\n",
       "  <tbody>\n",
       "    <tr>\n",
       "      <th>count</th>\n",
       "      <td>1.019140e+05</td>\n",
       "      <td>101578.000000</td>\n",
       "      <td>1.012080e+05</td>\n",
       "      <td>101208.000000</td>\n",
       "      <td>101208.000000</td>\n",
       "      <td>101208.000000</td>\n",
       "      <td>101914.000000</td>\n",
       "    </tr>\n",
       "    <tr>\n",
       "      <th>mean</th>\n",
       "      <td>2.815864e+07</td>\n",
       "      <td>10728.680895</td>\n",
       "      <td>1.002473e+06</td>\n",
       "      <td>208639.988953</td>\n",
       "      <td>40.739304</td>\n",
       "      <td>-73.934206</td>\n",
       "      <td>15.491974</td>\n",
       "    </tr>\n",
       "    <tr>\n",
       "      <th>std</th>\n",
       "      <td>6.015376e+06</td>\n",
       "      <td>631.206648</td>\n",
       "      <td>1.958043e+04</td>\n",
       "      <td>29956.193531</td>\n",
       "      <td>0.082224</td>\n",
       "      <td>0.070617</td>\n",
       "      <td>0.996092</td>\n",
       "    </tr>\n",
       "    <tr>\n",
       "      <th>min</th>\n",
       "      <td>1.146439e+07</td>\n",
       "      <td>83.000000</td>\n",
       "      <td>9.134950e+05</td>\n",
       "      <td>121350.000000</td>\n",
       "      <td>40.499502</td>\n",
       "      <td>-74.254437</td>\n",
       "      <td>15.000000</td>\n",
       "    </tr>\n",
       "    <tr>\n",
       "      <th>25%</th>\n",
       "      <td>2.341452e+07</td>\n",
       "      <td>10086.250000</td>\n",
       "      <td>9.936100e+05</td>\n",
       "      <td>186934.000000</td>\n",
       "      <td>40.679740</td>\n",
       "      <td>-73.966216</td>\n",
       "      <td>15.000000</td>\n",
       "    </tr>\n",
       "    <tr>\n",
       "      <th>50%</th>\n",
       "      <td>2.883680e+07</td>\n",
       "      <td>10472.000000</td>\n",
       "      <td>1.001398e+06</td>\n",
       "      <td>203425.500000</td>\n",
       "      <td>40.725009</td>\n",
       "      <td>-73.938112</td>\n",
       "      <td>15.000000</td>\n",
       "    </tr>\n",
       "    <tr>\n",
       "      <th>75%</th>\n",
       "      <td>3.346014e+07</td>\n",
       "      <td>11222.000000</td>\n",
       "      <td>1.011951e+06</td>\n",
       "      <td>236364.000000</td>\n",
       "      <td>40.815428</td>\n",
       "      <td>-73.899963</td>\n",
       "      <td>16.000000</td>\n",
       "    </tr>\n",
       "    <tr>\n",
       "      <th>max</th>\n",
       "      <td>3.719700e+07</td>\n",
       "      <td>100354.000000</td>\n",
       "      <td>1.066922e+06</td>\n",
       "      <td>271876.000000</td>\n",
       "      <td>40.912869</td>\n",
       "      <td>-73.701632</td>\n",
       "      <td>27.000000</td>\n",
       "    </tr>\n",
       "  </tbody>\n",
       "</table>\n",
       "</div>"
      ],
      "text/plain": [
       "         Unique Key   Incident Zip  X Coordinate (State Plane)  \\\n",
       "count  1.019140e+05  101578.000000                1.012080e+05   \n",
       "mean   2.815864e+07   10728.680895                1.002473e+06   \n",
       "std    6.015376e+06     631.206648                1.958043e+04   \n",
       "min    1.146439e+07      83.000000                9.134950e+05   \n",
       "25%    2.341452e+07   10086.250000                9.936100e+05   \n",
       "50%    2.883680e+07   10472.000000                1.001398e+06   \n",
       "75%    3.346014e+07   11222.000000                1.011951e+06   \n",
       "max    3.719700e+07  100354.000000                1.066922e+06   \n",
       "\n",
       "       Y Coordinate (State Plane)       Latitude      Longitude    num_missing  \n",
       "count               101208.000000  101208.000000  101208.000000  101914.000000  \n",
       "mean                208639.988953      40.739304     -73.934206      15.491974  \n",
       "std                  29956.193531       0.082224       0.070617       0.996092  \n",
       "min                 121350.000000      40.499502     -74.254437      15.000000  \n",
       "25%                 186934.000000      40.679740     -73.966216      15.000000  \n",
       "50%                 203425.500000      40.725009     -73.938112      15.000000  \n",
       "75%                 236364.000000      40.815428     -73.899963      16.000000  \n",
       "max                 271876.000000      40.912869     -73.701632      27.000000  "
      ]
     },
     "execution_count": 25,
     "metadata": {},
     "output_type": "execute_result"
    }
   ],
   "source": [
    "# Handle any missing data in your dataframe.\n",
    "cols_to_drop= ['Landmark', 'Ferry Terminal Name', 'Ferry Direction', 'Garage Lot Name', 'Road Ramp', 'Bridge Highway Segment', 'Bridge Highway Name', 'Bridge Highway Direction', 'Facility Type', 'Intersection Street 1', 'Intersection Street 2', 'School or Citywide Complaint', 'Vehicle Type', 'Taxi Company Borough', 'Taxi Pick Up Location']\n",
    "\n",
    "rats_less_missing = rats.drop(cols_to_drop, axis= 1)\n",
    "\n",
    "rats_less_missing.describe()\n"
   ]
  },
  {
   "cell_type": "markdown",
   "id": "be2121df",
   "metadata": {},
   "source": [
    "## Irregular Data\n",
    "\n",
    "With missing data out of the way, turn your attention to any outliers. Just as we did for missing data, we first need to detect the outliers. The article outlines the top techniques for finding outliers in a dataset."
   ]
  },
  {
   "cell_type": "code",
   "execution_count": 10,
   "id": "3a4f2cff",
   "metadata": {},
   "outputs": [
    {
     "data": {
      "text/plain": [
       "<AxesSubplot:>"
      ]
     },
     "execution_count": 10,
     "metadata": {},
     "output_type": "execute_result"
    },
    {
     "data": {
      "image/png": "[encoded data removed]",
      "text/plain": [
       "<Figure size 864x576 with 1 Axes>"
      ]
     },
     "metadata": {
      "needs_background": "light"
     },
     "output_type": "display_data"
    }
   ],
   "source": [
    "# Plot a histogram to see if there are any outliers.\n",
    "rats['Incident Zip'].hist(bins=500)"
   ]
  },
  {
   "cell_type": "code",
   "execution_count": 14,
   "id": "bfb364c3",
   "metadata": {},
   "outputs": [
    {
     "data": {
      "text/plain": [
       "<AxesSubplot:>"
      ]
     },
     "execution_count": 14,
     "metadata": {},
     "output_type": "execute_result"
    },
    {
     "data": {
      "image/png": "[encoded data removed]",
      "text/plain": [
       "<Figure size 864x576 with 1 Axes>"
      ]
     },
     "metadata": {
      "needs_background": "light"
     },
     "output_type": "display_data"
    }
   ],
   "source": [
    "rats.boxplot(column=['Incident Zip'])"
   ]
  },
  {
   "cell_type": "code",
   "execution_count": 56,
   "id": "ae9008bb",
   "metadata": {},
   "outputs": [
    {
     "data": {
      "text/plain": [
       "count    101578.000000\n",
       "mean      10728.680895\n",
       "std         631.206648\n",
       "min          83.000000\n",
       "25%       10086.250000\n",
       "50%       10472.000000\n",
       "75%       11222.000000\n",
       "max      100354.000000\n",
       "Name: Incident Zip, dtype: float64"
      ]
     },
     "execution_count": 56,
     "metadata": {},
     "output_type": "execute_result"
    }
   ],
   "source": [
    "# Use the describe() method\n",
    "rats['Incident Zip'].describe()"
   ]
  },
  {
   "cell_type": "code",
   "execution_count": 46,
   "id": "4af44edf",
   "metadata": {},
   "outputs": [
    {
     "data": {
      "text/plain": [
       "<AxesSubplot:>"
      ]
     },
     "execution_count": 46,
     "metadata": {},
     "output_type": "execute_result"
    },
    {
     "data": {
      "image/png": "[encoded data removed]",
      "text/plain": [
       "<Figure size 864x576 with 1 Axes>"
      ]
     },
     "metadata": {
      "needs_background": "light"
     },
     "output_type": "display_data"
    }
   ],
   "source": [
    "# Plot a bar chart\n",
    "rats['Incident Zip'].value_counts().plot.bar()"
   ]
  },
  {
   "cell_type": "markdown",
   "id": "da8d6080",
   "metadata": {},
   "source": [
    "Which of the three techniques helped you find any outliers? Now that you have found outliers, what will you do to solve the problem?"
   ]
  },
  {
   "cell_type": "code",
   "execution_count": 70,
   "id": "3ee7d694",
   "metadata": {},
   "outputs": [
    {
     "ename": "TypeError",
     "evalue": "object of type 'float' has no len()",
     "output_type": "error",
     "traceback": [
      "\u001b[0;31m---------------------------------------------------------------------------\u001b[0m",
      "\u001b[0;31mTypeError\u001b[0m                                 Traceback (most recent call last)",
      "\u001b[0;32m<ipython-input-70-ff4972807299>\u001b[0m in \u001b[0;36m<module>\u001b[0;34m\u001b[0m\n\u001b[1;32m      6\u001b[0m \u001b[0;34m\u001b[0m\u001b[0m\n\u001b[1;32m      7\u001b[0m \u001b[0;32mfor\u001b[0m \u001b[0mzip\u001b[0m \u001b[0;32min\u001b[0m \u001b[0mrats\u001b[0m\u001b[0;34m[\u001b[0m\u001b[0;34m'Incident Zip'\u001b[0m\u001b[0;34m]\u001b[0m\u001b[0;34m:\u001b[0m\u001b[0;34m\u001b[0m\u001b[0;34m\u001b[0m\u001b[0m\n\u001b[0;32m----> 8\u001b[0;31m     \u001b[0;32mif\u001b[0m \u001b[0mlen\u001b[0m\u001b[0;34m(\u001b[0m\u001b[0mzip\u001b[0m\u001b[0;34m)\u001b[0m \u001b[0;34m<\u001b[0m \u001b[0;36m5\u001b[0m \u001b[0;32mor\u001b[0m \u001b[0mlen\u001b[0m\u001b[0;34m(\u001b[0m\u001b[0mzip\u001b[0m\u001b[0;34m)\u001b[0m \u001b[0;34m>\u001b[0m \u001b[0;36m5\u001b[0m\u001b[0;34m:\u001b[0m\u001b[0;34m\u001b[0m\u001b[0;34m\u001b[0m\u001b[0m\n\u001b[0m\u001b[1;32m      9\u001b[0m         \u001b[0mrats\u001b[0m\u001b[0;34m[\u001b[0m\u001b[0;34m'Incident Zip'\u001b[0m\u001b[0;34m]\u001b[0m\u001b[0;34m.\u001b[0m\u001b[0mdrop\u001b[0m\u001b[0;34m(\u001b[0m\u001b[0mzip\u001b[0m\u001b[0;34m)\u001b[0m\u001b[0;34m\u001b[0m\u001b[0;34m\u001b[0m\u001b[0m\n",
      "\u001b[0;31mTypeError\u001b[0m: object of type 'float' has no len()"
     ]
    }
   ],
   "source": [
    "# Handle any outliers in your dataframe\n",
    "\n",
    "#I'm struggling with the syntax to remove outliers - most data here is categorical. \n",
    "# The min/max for zip have too few/many digits - I cannot find good syntax to drop these \n",
    "\n",
    "zip = str(zip)\n",
    "\n",
    "for zip in rats['Incident Zip']:\n",
    "    if len(zip) < 5 or len(zip) > 5:\n",
    "        rats['Incident Zip'].drop(zip)\n"
   ]
  },
  {
   "cell_type": "markdown",
   "id": "c802522d",
   "metadata": {},
   "source": [
    "## Unnecessary Data\n",
    "\n",
    "Unnecessary data could be duplicates, irrelevant, or any uninformative data. Dive into each type of unnecessary data to see if there is any in the data set. Make sure to make note of how you would handle each type of unnecessary data."
   ]
  },
  {
   "cell_type": "code",
   "execution_count": 67,
   "id": "8de40f50",
   "metadata": {},
   "outputs": [
    {
     "name": "stdout",
     "output_type": "stream",
     "text": [
      "Agency: 100.000000%\n",
      "DOHMH    101914\n",
      "Name: Agency, dtype: int64\n",
      "Agency Name: 100.000000%\n",
      "Department of Health and Mental Hygiene    101914\n",
      "Name: Agency Name, dtype: int64\n",
      "Complaint Type: 100.000000%\n",
      "Rodent    101914\n",
      "Name: Complaint Type, dtype: int64\n",
      "Descriptor: 100.000000%\n",
      "Rat Sighting    101914\n",
      "Name: Descriptor, dtype: int64\n",
      "Intersection Street 1: 91.242616%\n",
      "NaN                          92989\n",
      "BROADWAY                       246\n",
      "2 AVENUE                       167\n",
      "AMSTERDAM AVENUE               111\n",
      "LEXINGTON AVENUE               105\n",
      "                             ...  \n",
      "MANHATTAN COLLEGE PARKWAY        1\n",
      "HOLLY AVENUE                     1\n",
      "POMPEY AVENUE                    1\n",
      "BATH AVENUE                      1\n",
      "WEST  183 STREET                 1\n",
      "Name: Intersection Street 1, Length: 2437, dtype: int64\n",
      "Intersection Street 2: 91.242616%\n",
      "NaN                92989\n",
      "BROADWAY             152\n",
      "2 AVENUE              73\n",
      "RIVERSIDE DRIVE       50\n",
      "5 AVENUE              46\n",
      "                   ...  \n",
      "SHORE BOULEVARD        1\n",
      "WYATT STREET           1\n",
      "I AVENUE               1\n",
      "POUCH TERRACE          1\n",
      "RIDGE STREET           1\n",
      "Name: Intersection Street 2, Length: 2435, dtype: int64\n",
      "Landmark: 99.965657%\n",
      "NaN                                101879\n",
      "J F K AIRPORT                           6\n",
      "WOODHULL MEDICAL CENTER                 3\n",
      "GRAND ARMY PLAZA                        3\n",
      "PENNSYLVANIA STATION                    2\n",
      "HUNTER COLLEGE                          2\n",
      "LA GUARDIA AIRPORT                      2\n",
      "BARCLAYS CENTER                         2\n",
      "METROPOLITAN MUSEUM                     2\n",
      "BKLYN BATTERY TUNNEL                    1\n",
      "CENTRAL PARK                            1\n",
      "LEHMAN COLLEGE                          1\n",
      "YANKEE STADIUM                          1\n",
      "FERRY TERMINAL                          1\n",
      "WORLDS FAIR MARINA                      1\n",
      "CITY HALL                               1\n",
      "BROOKLYN MUSEUM                         1\n",
      "BKLYN PUBLIC LIBRARY                    1\n",
      "BKLYN PUBLIC LIBRARY CTR BRANCH         1\n",
      "BRYANT PARK                             1\n",
      "MUSEUM OF NATURAL HISTORY               1\n",
      "ELMHURST HOSPITAL                       1\n",
      "Name: Landmark, dtype: int64\n",
      "Facility Type: 100.000000%\n",
      "NaN    101914\n",
      "Name: Facility Type, dtype: int64\n",
      "Park Facility Name: 100.000000%\n",
      "Unspecified    101914\n",
      "Name: Park Facility Name, dtype: int64\n",
      "School Name: 100.000000%\n",
      "Unspecified    101914\n",
      "Name: School Name, dtype: int64\n",
      "School Number: 100.000000%\n",
      "Unspecified    101914\n",
      "Name: School Number, dtype: int64\n",
      "School Region: 100.000000%\n",
      "Unspecified    101914\n",
      "Name: School Region, dtype: int64\n",
      "School Code: 100.000000%\n",
      "Unspecified    101914\n",
      "Name: School Code, dtype: int64\n",
      "School Phone Number: 100.000000%\n",
      "Unspecified    101914\n",
      "Name: School Phone Number, dtype: int64\n",
      "School Address: 100.000000%\n",
      "Unspecified    101914\n",
      "Name: School Address, dtype: int64\n",
      "School City: 100.000000%\n",
      "Unspecified    101914\n",
      "Name: School City, dtype: int64\n",
      "School State: 100.000000%\n",
      "Unspecified    101914\n",
      "Name: School State, dtype: int64\n",
      "School Zip: 100.000000%\n",
      "Unspecified    101914\n",
      "Name: School Zip, dtype: int64\n",
      "School Not Found: 99.100222%\n",
      "N      100997\n",
      "NaN       917\n",
      "Name: School Not Found, dtype: int64\n",
      "School or Citywide Complaint: 100.000000%\n",
      "NaN    101914\n",
      "Name: School or Citywide Complaint, dtype: int64\n",
      "Vehicle Type: 100.000000%\n",
      "NaN    101914\n",
      "Name: Vehicle Type, dtype: int64\n",
      "Taxi Company Borough: 100.000000%\n",
      "NaN    101914\n",
      "Name: Taxi Company Borough, dtype: int64\n",
      "Taxi Pick Up Location: 100.000000%\n",
      "NaN    101914\n",
      "Name: Taxi Pick Up Location, dtype: int64\n",
      "Bridge Highway Name: 100.000000%\n",
      "NaN    101914\n",
      "Name: Bridge Highway Name, dtype: int64\n",
      "Bridge Highway Direction: 100.000000%\n",
      "NaN    101914\n",
      "Name: Bridge Highway Direction, dtype: int64\n",
      "Road Ramp: 100.000000%\n",
      "NaN    101914\n",
      "Name: Road Ramp, dtype: int64\n",
      "Bridge Highway Segment: 100.000000%\n",
      "NaN    101914\n",
      "Name: Bridge Highway Segment, dtype: int64\n",
      "Garage Lot Name: 100.000000%\n",
      "NaN    101914\n",
      "Name: Garage Lot Name, dtype: int64\n",
      "Ferry Direction: 100.000000%\n",
      "NaN    101914\n",
      "Name: Ferry Direction, dtype: int64\n",
      "Ferry Terminal Name: 100.000000%\n",
      "NaN    101914\n",
      "Name: Ferry Terminal Name, dtype: int64\n",
      "Location Type_ismissing: 99.994113%\n",
      "False    101908\n",
      "True          6\n",
      "Name: Location Type_ismissing, dtype: int64\n",
      "Incident Zip_ismissing: 99.670310%\n",
      "False    101578\n",
      "True        336\n",
      "Name: Incident Zip_ismissing, dtype: int64\n",
      "Incident Address_ismissing: 91.096415%\n",
      "False    92840\n",
      "True      9074\n",
      "Name: Incident Address_ismissing, dtype: int64\n",
      "Street Name_ismissing: 91.095433%\n",
      "False    92839\n",
      "True      9075\n",
      "Name: Street Name_ismissing, dtype: int64\n",
      "Intersection Street 1_ismissing: 91.242616%\n",
      "True     92989\n",
      "False     8925\n",
      "Name: Intersection Street 1_ismissing, dtype: int64\n",
      "Intersection Street 2_ismissing: 91.242616%\n",
      "True     92989\n",
      "False     8925\n",
      "Name: Intersection Street 2_ismissing, dtype: int64\n",
      "Address Type_ismissing: 99.660498%\n",
      "False    101568\n",
      "True        346\n",
      "Name: Address Type_ismissing, dtype: int64\n",
      "City_ismissing: 99.664423%\n",
      "False    101572\n",
      "True        342\n",
      "Name: City_ismissing, dtype: int64\n",
      "Landmark_ismissing: 99.965657%\n",
      "True     101879\n",
      "False        35\n",
      "Name: Landmark_ismissing, dtype: int64\n",
      "Facility Type_ismissing: 100.000000%\n",
      "True    101914\n",
      "Name: Facility Type_ismissing, dtype: int64\n",
      "Due Date_ismissing: 99.885197%\n",
      "False    101797\n",
      "True        117\n",
      "Name: Due Date_ismissing, dtype: int64\n",
      "Resolution Action Updated Date_ismissing: 99.997056%\n",
      "False    101911\n",
      "True          3\n",
      "Name: Resolution Action Updated Date_ismissing, dtype: int64\n",
      "X Coordinate (State Plane)_ismissing: 99.307259%\n",
      "False    101208\n",
      "True        706\n",
      "Name: X Coordinate (State Plane)_ismissing, dtype: int64\n",
      "Y Coordinate (State Plane)_ismissing: 99.307259%\n",
      "False    101208\n",
      "True        706\n",
      "Name: Y Coordinate (State Plane)_ismissing, dtype: int64\n",
      "School Not Found_ismissing: 99.100222%\n",
      "False    100997\n",
      "True        917\n",
      "Name: School Not Found_ismissing, dtype: int64\n",
      "School or Citywide Complaint_ismissing: 100.000000%\n",
      "True    101914\n",
      "Name: School or Citywide Complaint_ismissing, dtype: int64\n",
      "Vehicle Type_ismissing: 100.000000%\n",
      "True    101914\n",
      "Name: Vehicle Type_ismissing, dtype: int64\n",
      "Taxi Company Borough_ismissing: 100.000000%\n",
      "True    101914\n",
      "Name: Taxi Company Borough_ismissing, dtype: int64\n",
      "Taxi Pick Up Location_ismissing: 100.000000%\n",
      "True    101914\n",
      "Name: Taxi Pick Up Location_ismissing, dtype: int64\n",
      "Bridge Highway Name_ismissing: 100.000000%\n",
      "True    101914\n",
      "Name: Bridge Highway Name_ismissing, dtype: int64\n",
      "Bridge Highway Direction_ismissing: 100.000000%\n",
      "True    101914\n",
      "Name: Bridge Highway Direction_ismissing, dtype: int64\n",
      "Road Ramp_ismissing: 100.000000%\n",
      "True    101914\n",
      "Name: Road Ramp_ismissing, dtype: int64\n",
      "Bridge Highway Segment_ismissing: 100.000000%\n",
      "True    101914\n",
      "Name: Bridge Highway Segment_ismissing, dtype: int64\n",
      "Garage Lot Name_ismissing: 100.000000%\n",
      "True    101914\n",
      "Name: Garage Lot Name_ismissing, dtype: int64\n",
      "Ferry Direction_ismissing: 100.000000%\n",
      "True    101914\n",
      "Name: Ferry Direction_ismissing, dtype: int64\n",
      "Ferry Terminal Name_ismissing: 100.000000%\n",
      "True    101914\n",
      "Name: Ferry Terminal Name_ismissing, dtype: int64\n",
      "Latitude_ismissing: 99.307259%\n",
      "False    101208\n",
      "True        706\n",
      "Name: Latitude_ismissing, dtype: int64\n",
      "Longitude_ismissing: 99.307259%\n",
      "False    101208\n",
      "True        706\n",
      "Name: Longitude_ismissing, dtype: int64\n",
      "Location_ismissing: 99.307259%\n",
      "False    101208\n",
      "True        706\n",
      "Name: Location_ismissing, dtype: int64\n"
     ]
    }
   ],
   "source": [
    "# Look for any irrelevant data in the dataframe. How will you handle it?\n",
    "num_rows = len(rats.index)\n",
    "low_info_cols = []\n",
    "\n",
    "for col in rats.columns:\n",
    "    cnts = rats[col].value_counts(dropna=False)\n",
    "    top_pct = (cnts/num_rows).iloc[0]\n",
    "    \n",
    "    if top_pct > 0.90:\n",
    "        low_info_cols.append(col)\n",
    "        print('{0}: {1:5f}%'.format(col, top_pct*100))\n",
    "        print(cnts)\n",
    "        \n",
    "#Many of the columns have the same entry (Agency, Agency Name, etc.)\n",
    "#For any columns with .90 of the same answer I would drop those entirely it adds nothing"
   ]
  },
  {
   "cell_type": "code",
   "execution_count": 44,
   "id": "888b49f1",
   "metadata": {},
   "outputs": [
    {
     "name": "stdout",
     "output_type": "stream",
     "text": [
      "(101914, 85)\n"
     ]
    },
    {
     "data": {
      "text/plain": [
       "(101914, 85)"
      ]
     },
     "execution_count": 44,
     "metadata": {},
     "output_type": "execute_result"
    }
   ],
   "source": [
    "# Look for duplicates. How will you handle any duplicates?\n",
    "\n",
    "#I think my attempt is incorrect - feel like I am misisng something here [rats.drop_duplicates]\n",
    "\n",
    "rats_dupped = rats.drop_duplicates()\n",
    "\n",
    "print(rats.shape)\n",
    "rats_dupped.shape"
   ]
  },
  {
   "cell_type": "code",
   "execution_count": 35,
   "id": "cbd6ee14",
   "metadata": {},
   "outputs": [],
   "source": [
    "# Think about what data in the dataframe may be uninformative. Make note here of what situations may render data uninformative and how you would handle it?\n",
    "Maybe the scope or time series of a project could change, new data comes out, etc and you might want to drop entries older than x date"
   ]
  },
  {
   "cell_type": "markdown",
   "id": "bdcad93a",
   "metadata": {},
   "source": [
    "## Inconsistent Data\n",
    "\n",
    "Inconsistent data is anything that messes with your model. This is likely due to inconsistent formatting and can be addressed by re-formatting all values in a column or row."
   ]
  },
  {
   "cell_type": "code",
   "execution_count": 60,
   "id": "4fc6bbb7",
   "metadata": {},
   "outputs": [
    {
     "data": {
      "text/plain": [
       "NaN                    9074\n",
       "2131 wallace avenue     186\n",
       "95 eastern parkway      176\n",
       "651 brooklyn avenue     127\n",
       "2486 davidson ave        88\n",
       "                       ... \n",
       "1850 ocean parkway        1\n",
       "117-27 203 street         1\n",
       "956 dumont avenue         1\n",
       "184 hopkins avenue        1\n",
       "105 long pond lane        1\n",
       "Name: Incident Address, Length: 51602, dtype: int64"
      ]
     },
     "execution_count": 60,
     "metadata": {},
     "output_type": "execute_result"
    }
   ],
   "source": [
    "# Try to convert all the strings in a column to lower or upper case. \n",
    "rats['Incident Address'].value_counts(dropna=False)\n",
    "rats['Incident Address'].str.lower().value_counts(dropna=False)"
   ]
  },
  {
   "cell_type": "code",
   "execution_count": null,
   "id": "7b04a869-4353-4a21-a01f-22e096f7d242",
   "metadata": {},
   "outputs": [],
   "source": []
  }
 ],
 "metadata": {
  "kernelspec": {
   "display_name": "Python 3",
   "language": "python",
   "name": "python3"
  },
  "language_info": {
   "codemirror_mode": {
    "name": "ipython",
    "version": 3
   },
   "file_extension": ".py",
   "mimetype": "text/x-python",
   "name": "python",
   "nbconvert_exporter": "python",
   "pygments_lexer": "ipython3",
   "version": "3.8.8"
  }
 },
 "nbformat": 4,
 "nbformat_minor": 5
}
